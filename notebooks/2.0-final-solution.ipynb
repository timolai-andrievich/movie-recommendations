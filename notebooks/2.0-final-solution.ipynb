{
 "cells": [
  {
   "cell_type": "markdown",
   "metadata": {},
   "source": [
    "# Movie Recommendation System for MovieLens 100K Dataset"
   ]
  },
  {
   "cell_type": "markdown",
   "metadata": {},
   "source": [
    "## Library Imports"
   ]
  },
  {
   "cell_type": "code",
   "execution_count": 1,
   "metadata": {},
   "outputs": [
    {
     "name": "stderr",
     "output_type": "stream",
     "text": [
      "c:\\ProgramData\\Anaconda3\\envs\\eleven\\Lib\\site-packages\\torchaudio\\backend\\utils.py:74: UserWarning: No audio backend is available.\n",
      "  warnings.warn(\"No audio backend is available.\")\n"
     ]
    }
   ],
   "source": [
    "from matplotlib import pyplot as plt\n",
    "import numpy as np\n",
    "import pandas as pd\n",
    "import sklearn\n",
    "import sklearn.preprocessing\n",
    "import torch\n",
    "from torch import nn\n",
    "from torch.utils.data import Dataset, DataLoader, random_split\n",
    "import tqdm\n",
    "\n",
    "from datetime import datetime, timedelta\n",
    "import pathlib\n",
    "import random"
   ]
  },
  {
   "cell_type": "markdown",
   "metadata": {},
   "source": [
    "## Seeding Random Generators"
   ]
  },
  {
   "cell_type": "code",
   "execution_count": 2,
   "metadata": {},
   "outputs": [],
   "source": [
    "SEED = 42\n",
    "np.random.seed(SEED)\n",
    "torch.random.manual_seed(SEED)\n",
    "torch_geometric.seed.seed_everything(SEED)\n",
    "random.seed(SEED)"
   ]
  },
  {
   "cell_type": "markdown",
   "metadata": {},
   "source": [
    "## Loading the Dataset"
   ]
  },
  {
   "cell_type": "code",
   "execution_count": 3,
   "metadata": {},
   "outputs": [],
   "source": [
    "BATCH_SIZE = 64\n",
    "DATASET_DIR = pathlib.Path('../data/raw/ml-100k/')"
   ]
  },
  {
   "cell_type": "code",
   "execution_count": 4,
   "metadata": {},
   "outputs": [],
   "source": [
    "class RatingDataset(Dataset):\n",
    "    \"\"\"Dataset containing tuples of `user_id, item_id, rating`.\n",
    "    \"\"\"\n",
    "    def __init__(self, dataframe: pd.DataFrame):\n",
    "        \"\"\"Dataset containing tuples of `user_id, item_id, rating`.\n",
    "\n",
    "        Args:\n",
    "            dataframe (DataFrame): The dataset containing columns\n",
    "            `user_id`, `item_id`, and `rating`.\n",
    "        \"\"\"\n",
    "        super().__init__()\n",
    "        self.items = list(zip(dataframe['user_id'] - 1, dataframe['item_id'] - 1, dataframe['rating']))\n",
    "    \n",
    "    def __len__(self) -> int:\n",
    "        \"\"\"Calculates the length of the dataset.\n",
    "\n",
    "        Returns:\n",
    "            int: Length of the dataset.\n",
    "        \"\"\"\n",
    "        return len(self.items)\n",
    "    \n",
    "    def __getitem__(self, index: int) -> tuple[int, int, int]:\n",
    "        \"\"\"Returns the `index`-th item in the dataset.\n",
    "\n",
    "        Args:\n",
    "            index (int): The index of the item requested.\n",
    "\n",
    "        Returns:\n",
    "            tuple[int, int, int]: Tuple of `user_id`, `item_id`, `rating`.\n",
    "            `rating` ranges from 1 to 5 inclusive.\n",
    "        \"\"\"\n",
    "        return self.items[index]"
   ]
  },
  {
   "cell_type": "code",
   "execution_count": 5,
   "metadata": {},
   "outputs": [],
   "source": [
    "# The user-given ratings are loaded and split into training, validation, and test sets.\n",
    "ratings_df = pd.read_csv(DATASET_DIR / 'u.data', sep='\\t', names=['user_id', 'item_id', 'rating', 'timestamp'])\n",
    "dataset = RatingDataset(ratings_df)\n",
    "test_size = val_size = int(len(ratings_df) * .05)\n",
    "train_size = len(ratings_df) - val_size - test_size\n",
    "\n",
    "train_dataset, val_dataset, test_dataset = random_split(dataset, (train_size, val_size, test_size))\n",
    "\n",
    "train_loader = DataLoader(train_dataset, batch_size=BATCH_SIZE, shuffle=True)\n",
    "val_loader = DataLoader(val_dataset, batch_size=BATCH_SIZE, shuffle=True)\n",
    "test_loader = DataLoader(test_dataset, batch_size=BATCH_SIZE, shuffle=True)"
   ]
  },
  {
   "cell_type": "code",
   "execution_count": 6,
   "metadata": {},
   "outputs": [],
   "source": [
    "# The movie data is loaded\n",
    "item_columns = ['movie id', 'movie title', 'release date', 'video release date', 'IMDb URL']\n",
    "GENRES = ['unknown', 'Action', 'Adventure', 'Animation', \"Children's\", 'Comedy', 'Crime', 'Documentary', 'Drama', 'Fantasy', 'Film-Noir', 'Horror', 'Musical', 'Mystery', 'Romance', 'Sci-Fi', 'Thriller', 'War', 'Western']\n",
    "items_df = pd.read_csv(DATASET_DIR / 'u.item', sep='|', names=item_columns + GENRES, encoding=\"windows-1252\")"
   ]
  },
  {
   "cell_type": "code",
   "execution_count": 7,
   "metadata": {},
   "outputs": [],
   "source": [
    "# The user data is loaded.\n",
    "user_columns = ['user id', 'age', 'gender', 'occupation', 'zip code']\n",
    "users_df = pd.read_csv(DATASET_DIR / 'u.user', sep='|', names=user_columns, encoding=\"windows-1252\")"
   ]
  },
  {
   "cell_type": "markdown",
   "metadata": {},
   "source": [
    "## Processing User and Item Data"
   ]
  },
  {
   "cell_type": "code",
   "execution_count": 8,
   "metadata": {},
   "outputs": [],
   "source": [
    "class UserEncoding:\n",
    "    \"\"\"Encodes user information into numerical format. Age is rescaled to be between\n",
    "    0 and 1, gender and occupation are one-hot encoded.\n",
    "    \"\"\"\n",
    "    def __init__(self):\n",
    "        \"\"\"Encodes user information into numerical format. Age is rescaled to be between\n",
    "        0 and 1, gender and occupation are one-hot encoded.\n",
    "        \"\"\"\n",
    "        self.age_scaler = sklearn.preprocessing.MinMaxScaler()\n",
    "        self.gender_encoder = sklearn.preprocessing.LabelEncoder()\n",
    "        self.occupation_encoder = sklearn.preprocessing.LabelEncoder()\n",
    "        self.occupation_one_hot = sklearn.preprocessing.OneHotEncoder(sparse=False)\n",
    "\n",
    "    def fit(self, dataframe: pd.DataFrame):\n",
    "        \"\"\"Fits all the preprocessing sklearn modules on the data.\n",
    "\n",
    "        Args:\n",
    "            dataframe (DataFrame): Dataframe containing the user information.\n",
    "        \"\"\"\n",
    "        self.age_scaler.fit(dataframe.age.to_numpy().reshape(-1, 1))\n",
    "        self.gender_encoder.fit(dataframe.gender.to_numpy().reshape(-1, 1))\n",
    "        occupation = self.occupation_encoder.fit_transform(dataframe.occupation.to_numpy().reshape(-1, 1)).reshape(-1, 1)\n",
    "        self.occupation_one_hot.fit(occupation)\n",
    "\n",
    "    def transform(self, dataframe: pd.DataFrame) -> np.ndarray:\n",
    "        \"\"\"Transforms the user information and returs a numpy array\n",
    "        with encoded values.\n",
    "\n",
    "        Args:\n",
    "            dataframe (DataFrame): Dataframe with user information.\n",
    "\n",
    "        Returns:\n",
    "            ndarray: Encoded user information.\n",
    "        \"\"\"\n",
    "        age = self.age_scaler.transform(dataframe.age.to_numpy().reshape(-1, 1))\n",
    "        gender = self.gender_encoder.transform(dataframe.gender.to_numpy().reshape(-1, 1)).reshape(-1, 1)\n",
    "        occupation = self.occupation_encoder.transform(dataframe.occupation.to_numpy().reshape(-1, 1)).reshape(-1, 1)\n",
    "        occupation = self.occupation_one_hot.transform(occupation)\n",
    "        user_features = np.concatenate((age, gender, occupation), axis=1)\n",
    "        return user_features\n",
    "\n",
    "    def fit_transform(self, dataframe: pd.DataFrame) -> np.ndarray:\n",
    "        \"\"\"Fits all preprocessing modules and transforms the user information, then returs a numpy array\n",
    "        with encoded values.\n",
    "\n",
    "        Args:\n",
    "            dataframe (DataFrame): Dataframe with user information.\n",
    "\n",
    "        Returns:\n",
    "            ndarray: Encoded user information.\n",
    "        \"\"\"\n",
    "        age = self.age_scaler.fit_transform(dataframe.age.to_numpy().reshape(-1, 1))\n",
    "        gender = self.gender_encoder.fit_transform(dataframe.gender.to_numpy().reshape(-1, 1)).reshape(-1, 1)\n",
    "        occupation = self.occupation_encoder.fit_transform(dataframe.occupation.to_numpy().reshape(-1, 1)).reshape(-1, 1)\n",
    "        occupation = self.occupation_one_hot.fit_transform(occupation)\n",
    "        user_features = np.concatenate([age, gender, occupation], axis=1)\n",
    "        return user_features"
   ]
  },
  {
   "cell_type": "code",
   "execution_count": 9,
   "metadata": {},
   "outputs": [
    {
     "name": "stderr",
     "output_type": "stream",
     "text": [
      "c:\\ProgramData\\Anaconda3\\envs\\eleven\\Lib\\site-packages\\sklearn\\preprocessing\\_label.py:114: DataConversionWarning: A column-vector y was passed when a 1d array was expected. Please change the shape of y to (n_samples, ), for example using ravel().\n",
      "  y = column_or_1d(y, warn=True)\n",
      "c:\\ProgramData\\Anaconda3\\envs\\eleven\\Lib\\site-packages\\sklearn\\preprocessing\\_label.py:114: DataConversionWarning: A column-vector y was passed when a 1d array was expected. Please change the shape of y to (n_samples, ), for example using ravel().\n",
      "  y = column_or_1d(y, warn=True)\n",
      "c:\\ProgramData\\Anaconda3\\envs\\eleven\\Lib\\site-packages\\sklearn\\preprocessing\\_encoders.py:975: FutureWarning: `sparse` was renamed to `sparse_output` in version 1.2 and will be removed in 1.4. `sparse_output` is ignored unless you leave `sparse` to its default value.\n",
      "  warnings.warn(\n"
     ]
    }
   ],
   "source": [
    "embed_users = UserEncoding()\n",
    "user_encodings = embed_users.fit_transform(users_df)\n",
    "user_encodings = torch.tensor(user_encodings).float()"
   ]
  },
  {
   "cell_type": "code",
   "execution_count": 10,
   "metadata": {},
   "outputs": [],
   "source": [
    "class ItemEncoding:\n",
    "    \"\"\"Encodes item information into numerical format. Date information is encoded\n",
    "    and scaled to be between 0 and 1.\n",
    "    \"\"\"\n",
    "    def __init__(self):\n",
    "        \"\"\"Encodes item information into numerical format. Date information is encoded\n",
    "        and scaled to be between 0 and 1.\n",
    "        \"\"\"\n",
    "        self.time_scaler = sklearn.preprocessing.MinMaxScaler()\n",
    "\n",
    "    def _parse_date(self, date_string: str) -> float:\n",
    "        \"\"\"Parses a date in format \"DD-MMM-YYYY\", e.g. \"01-Jan-1995\", and returns the time\n",
    "        difference between the given date and Jan 1st 1900 in seconds (the date does not\n",
    "        matter, as the timestamp is scaled afterwards.)\n",
    "\n",
    "        Args:\n",
    "            date_string (str): String containing the date in specified format.\n",
    "\n",
    "        Returns:\n",
    "            float: Number of seconds passed from January 1st 1900 00:00:00 to the given date.\n",
    "        \"\"\"\n",
    "        parsed_date = datetime.strptime(date_string, '%d-%b-%Y')\n",
    "        start = datetime(1900, 1, 1)\n",
    "        return (parsed_date - start) / timedelta(seconds=1)\n",
    "    \n",
    "    def fit(self, dataframe: pd.DataFrame):\n",
    "        \"\"\"Fits all preprocessing modules on the given item information.\n",
    "\n",
    "        Args:\n",
    "            dataframe (DataFrame): Dataframe with item information.\n",
    "\n",
    "        Returns:\n",
    "            ndarray: Encoded item information.\n",
    "        \"\"\"\n",
    "        timestamps = dataframe['release date'].fillna('01-Jan-1995').apply(self._parse_date).to_numpy().reshape(-1, 1)\n",
    "        self.time_scaler.fit(timestamps)\n",
    "\n",
    "    def transform(self, dataframe: pd.DataFrame) -> np.ndarray:\n",
    "        \"\"\"Transforms the item information, then returs a numpy array\n",
    "        with encoded values.\n",
    "\n",
    "        Args:\n",
    "            dataframe (DataFrame): Dataframe with item information.\n",
    "\n",
    "        Returns:\n",
    "            ndarray: Encoded item information.\n",
    "        \"\"\"\n",
    "        timestamps = dataframe['release date'].fillna('01-Jan-1995').apply(self._parse_date).to_numpy().reshape(-1, 1)\n",
    "        scaled_timestamps = self.time_scaler.transform(timestamps)\n",
    "        genres = dataframe[GENRES].to_numpy()\n",
    "        item_features = np.concatenate([scaled_timestamps, genres], axis=1)\n",
    "        return item_features\n",
    "        \n",
    "    def fit_transform(self, dataframe: pd.DataFrame) -> np.ndarray:\n",
    "        \"\"\"Fits all preprocessing modules and transforms the item information, then returs a numpy array\n",
    "        with encoded values.\n",
    "\n",
    "        Args:\n",
    "            dataframe (DataFrame): Dataframe with item information.\n",
    "\n",
    "        Returns:\n",
    "            ndarray: Encoded item information.\n",
    "        \"\"\"\n",
    "        timestamps = dataframe['release date'].fillna('01-Jan-1995').apply(self._parse_date).to_numpy().reshape(-1, 1)\n",
    "        scaled_timestamps = self.time_scaler.fit_transform(timestamps)\n",
    "        genres = dataframe[GENRES].to_numpy()\n",
    "        item_features = np.concatenate([scaled_timestamps, genres], axis=1)\n",
    "        return item_features"
   ]
  },
  {
   "cell_type": "code",
   "execution_count": 11,
   "metadata": {},
   "outputs": [],
   "source": [
    "embed_items = ItemEncoding()\n",
    "item_encodings = embed_items.fit_transform(items_df)\n",
    "item_encodings = torch.tensor(item_encodings).float()"
   ]
  },
  {
   "cell_type": "markdown",
   "metadata": {},
   "source": [
    "## Defining the Model"
   ]
  },
  {
   "cell_type": "code",
   "execution_count": 12,
   "metadata": {},
   "outputs": [],
   "source": [
    "class RatingEstimator(nn.Module):\n",
    "    \"\"\"The model for estimating a rating a user is most likely to give a movie.\n",
    "    \"\"\"\n",
    "    def __init__(self, user_encodings: torch.Tensor, item_encodings: torch.Tensor):\n",
    "        \"\"\"The model for estimating a rating a user is most likely to give a movie.\n",
    "\n",
    "        Args:\n",
    "            user_encodings (Tensor): Matrix, containing encoded user information.\n",
    "            Shaped `(n_users, user_dim)`\n",
    "            item_encodings (Tensor): Matrix, containing encoded item information.\n",
    "            Shaped `(n_items, item_dim)`\n",
    "        \"\"\"\n",
    "        super().__init__()\n",
    "        n_users = user_encodings.shape[0]\n",
    "        n_items = item_encodings.shape[0]\n",
    "        self.register_buffer('item_encodings', item_encodings)\n",
    "        self.register_buffer('user_encodings', user_encodings)\n",
    "        self.user_embed = nn.Embedding(n_users, 20)\n",
    "        self.item_embed = nn.Embedding(n_items, 20)\n",
    "        self.user_fc = nn.Linear(20 + user_encodings.shape[1], 50)\n",
    "        self.item_fc = nn.Linear(20 + item_encodings.shape[1], 50)\n",
    "\n",
    "    def forward(self, user_ids: torch.Tensor, item_ids: torch.Tensor) -> torch.Tensor:\n",
    "        \"\"\"Predicts ratings users with given IDs are most likely to give\n",
    "        to items with given IDs.\n",
    "\n",
    "        Args:\n",
    "            user_ids (torch.Tensor): Tensor with user IDs, shaped `(n,)`.\n",
    "            item_ids (torch.Tensor): Tensor with item IDs, shaped `(n,)`.\n",
    "\n",
    "        Returns:\n",
    "            Tensor: Predicted ratings of the movies. Shaped `(n,)`\n",
    "        \"\"\"\n",
    "        user_encodings = self.user_encodings[user_ids]\n",
    "        item_encodings = self.item_encodings[item_ids]\n",
    "        user_embeddings = self.user_embed(user_ids)\n",
    "        item_embeddings = self.item_embed(item_ids)\n",
    "        users = self.user_fc(torch.concat([user_encodings, user_embeddings], dim=-1))\n",
    "        items = self.item_fc(torch.concat([item_encodings, item_embeddings], dim=-1))\n",
    "        ratings = (users * items).sum(dim=-1)\n",
    "        return users, items, ratings\n",
    "    \n",
    "    def recommend(self, user_ids: torch.Tensor) -> torch.Tensor:\n",
    "        \"\"\"Returns the predicted ratings for all items in the dataset.\n",
    "\n",
    "        Args:\n",
    "            user_ids (torch.Tensor): The users to predict ratings for, shaped `(n,)`.\n",
    "\n",
    "        Returns:\n",
    "            torch.Tensor: Predicted ratings for all items in the dataset, shaped `(n, n_items)`.\n",
    "        \"\"\"\n",
    "        item_ids = torch.arange(len(self.item_encodings))\n",
    "        user_encodings = self.user_encodings[user_ids]\n",
    "        item_encodings = self.item_encodings[item_ids]\n",
    "        user_embeddings = self.user_embed(user_ids)\n",
    "        item_embeddings = self.item_embed(item_ids)\n",
    "        users = self.user_fc(torch.concat([user_encodings, user_embeddings], dim=-1))\n",
    "        items = self.item_fc(torch.concat([item_encodings, item_embeddings], dim=-1))\n",
    "        ratings = torch.matmul(users, torch.transpose(items, 0, 1))\n",
    "        return ratings"
   ]
  },
  {
   "cell_type": "markdown",
   "metadata": {},
   "source": [
    "## Training the model"
   ]
  },
  {
   "cell_type": "code",
   "execution_count": 13,
   "metadata": {},
   "outputs": [],
   "source": [
    "EPOCHS = 20\n",
    "LAMBDA_USER = 0.05 # Weight of user embeddings' L2 regularization\n",
    "LAMBDA_ITEM = 0.02 # Weight of item embeddings' L2 regularization\n",
    "MODEL_PATH = pathlib.Path('../models/')"
   ]
  },
  {
   "cell_type": "code",
   "execution_count": 14,
   "metadata": {},
   "outputs": [],
   "source": [
    "MODEL_PATH.mkdir(exist_ok=True)"
   ]
  },
  {
   "cell_type": "code",
   "execution_count": 15,
   "metadata": {},
   "outputs": [],
   "source": [
    "model = RatingEstimator(user_encodings, item_encodings)\n",
    "optimizer = torch.optim.Adam(model.parameters())\n",
    "criterion = nn.MSELoss()"
   ]
  },
  {
   "cell_type": "code",
   "execution_count": 16,
   "metadata": {},
   "outputs": [],
   "source": [
    "def train_step(user_ids: torch.Tensor, item_ids: torch.Tensor, ratings: torch.Tensor) -> float:\n",
    "    \"\"\"Makes a training step using given data. Returns batch loss.\n",
    "\n",
    "    Returns:\n",
    "        float: Loss on the given batch.\n",
    "    \"\"\"\n",
    "    ratings = ratings.float()\n",
    "    user_embeddings, item_embeddings, pred_ratings = model(user_ids, item_ids)\n",
    "    loss = criterion(ratings, pred_ratings)\n",
    "    loss += LAMBDA_USER * torch.nn.functional.mse_loss(user_embeddings, torch.zeros_like(user_embeddings))\n",
    "    loss += LAMBDA_ITEM * torch.nn.functional.mse_loss(item_embeddings, torch.zeros_like(item_embeddings))\n",
    "    optimizer.zero_grad()\n",
    "    loss.backward()\n",
    "    optimizer.step()\n",
    "    return loss.item()"
   ]
  },
  {
   "cell_type": "code",
   "execution_count": 17,
   "metadata": {},
   "outputs": [],
   "source": [
    "def evaluate_model(loader: DataLoader) -> float:\n",
    "    \"\"\"Evaluates the model on the given dataset and returns the RMSE metric.\n",
    "\n",
    "    Args:\n",
    "        loader (DataLoader): The dataloader of the evaluation set.\n",
    "\n",
    "    Returns:\n",
    "        float: RMSE metric of the model on the dataset.\n",
    "    \"\"\"\n",
    "    total_len = 0\n",
    "    total_mse = 0\n",
    "    model.eval()\n",
    "    with torch.no_grad():\n",
    "        for user_ids, item_ids, ratings in loader:\n",
    "            _users, _items, pred_ratings = model(user_ids, item_ids)\n",
    "            mse = torch.square(ratings - pred_ratings).mean()\n",
    "            batch_len = len(ratings)\n",
    "            total_len += batch_len\n",
    "            total_mse += batch_len * mse\n",
    "    mse = total_mse / total_len\n",
    "    return torch.sqrt(mse).item()"
   ]
  },
  {
   "cell_type": "code",
   "execution_count": 18,
   "metadata": {},
   "outputs": [
    {
     "data": {
      "application/vnd.jupyter.widget-view+json": {
       "model_id": "a864e998a7dc41a695b10096dc3d94c0",
       "version_major": 2,
       "version_minor": 0
      },
      "text/plain": [
       "  0%|          | 0/28140 [00:00<?, ?it/s]"
      ]
     },
     "metadata": {},
     "output_type": "display_data"
    }
   ],
   "source": [
    "losses = []\n",
    "val_rmse = []\n",
    "with tqdm.notebook.tqdm(total=EPOCHS * len(train_loader)) as pbar:\n",
    "    for _epoch in range(EPOCHS):\n",
    "        model.train()\n",
    "        for users, items, ratings in train_loader:\n",
    "            loss = train_step(users, items, ratings)\n",
    "            losses.append(loss)\n",
    "            pbar.update(1)\n",
    "        rmse = evaluate_model(val_loader)\n",
    "        if not val_rmse or rmse < min(val_rmse):\n",
    "            torch.save(model.state_dict(), MODEL_PATH / 'best.pt')\n",
    "        torch.save(model.state_dict(), MODEL_PATH / 'last.pt')\n",
    "        val_rmse.append(rmse)"
   ]
  },
  {
   "cell_type": "code",
   "execution_count": 19,
   "metadata": {},
   "outputs": [
    {
     "data": {
      "image/png": "[encoded data removed]",
      "text/plain": [
       "<Figure size 640x480 with 1 Axes>"
      ]
     },
     "metadata": {},
     "output_type": "display_data"
    }
   ],
   "source": [
    "plt.plot(np.arange(len(losses)), np.array(losses))\n",
    "plt.savefig('../reports/figures/loss.png')"
   ]
  },
  {
   "cell_type": "code",
   "execution_count": 20,
   "metadata": {},
   "outputs": [
    {
     "data": {
      "image/png": "[encoded data removed]",
      "text/plain": [
       "<Figure size 640x480 with 1 Axes>"
      ]
     },
     "metadata": {},
     "output_type": "display_data"
    }
   ],
   "source": [
    "losses_smoothed = np.convolve(np.array(losses), np.ones(len(train_loader)) / len(train_loader), mode='valid')\n",
    "plt.plot(np.arange(len(losses_smoothed)), losses_smoothed)\n",
    "plt.savefig('../reports/figures/loss_smoothed.png')"
   ]
  },
  {
   "cell_type": "code",
   "execution_count": 21,
   "metadata": {},
   "outputs": [
    {
     "data": {
      "image/png": "[encoded data removed]",
      "text/plain": [
       "<Figure size 640x480 with 1 Axes>"
      ]
     },
     "metadata": {},
     "output_type": "display_data"
    }
   ],
   "source": [
    "plt.plot(np.arange(EPOCHS), val_rmse)\n",
    "plt.savefig('../reports/figures/rmse.png')"
   ]
  },
  {
   "cell_type": "code",
   "execution_count": 22,
   "metadata": {},
   "outputs": [
    {
     "name": "stdout",
     "output_type": "stream",
     "text": [
      "Last model metrics:\n",
      "train set: 0.837\n",
      "val set: 0.962\n",
      "test set: 0.952\n",
      "Best model metrics:\n",
      "train set: 0.837\n",
      "val set: 0.962\n",
      "test set: 0.952\n"
     ]
    }
   ],
   "source": [
    "model.load_state_dict(torch.load(MODEL_PATH / 'last.pt'))\n",
    "train_rmse = evaluate_model(train_loader)\n",
    "val_rmse = evaluate_model(val_loader)\n",
    "test_rmse = evaluate_model(test_loader)\n",
    "print(f'''Last model metrics:\n",
    "train set: {train_rmse:.3f}\n",
    "val set: {val_rmse:.3f}\n",
    "test set: {test_rmse:.3f}''')\n",
    "model.load_state_dict(torch.load(MODEL_PATH / 'best.pt'))\n",
    "train_rmse = evaluate_model(train_loader)\n",
    "val_rmse = evaluate_model(val_loader)\n",
    "test_rmse = evaluate_model(test_loader)\n",
    "print(f'''Best model metrics:\n",
    "train set: {train_rmse:.3f}\n",
    "val set: {val_rmse:.3f}\n",
    "test set: {test_rmse:.3f}''')"
   ]
  },
  {
   "cell_type": "code",
   "execution_count": null,
   "metadata": {},
   "outputs": [],
   "source": []
  }
 ],
 "metadata": {
  "kernelspec": {
   "display_name": "Python 3.11.4 ('eleven')",
   "language": "python",
   "name": "python3"
  },
  "language_info": {
   "codemirror_mode": {
    "name": "ipython",
    "version": 3
   },
   "file_extension": ".py",
   "mimetype": "text/x-python",
   "name": "python",
   "nbconvert_exporter": "python",
   "pygments_lexer": "ipython3",
   "version": "3.11.4"
  },
  "orig_nbformat": 4,
  "vscode": {
   "interpreter": {
    "hash": "28c38045a217c3494aecda864b402de2332328bd6799c470faa4b728b2109968"
   }
  }
 },
 "nbformat": 4,
 "nbformat_minor": 2
}
